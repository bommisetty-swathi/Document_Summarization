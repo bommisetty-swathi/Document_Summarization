{
  "nbformat": 4,
  "nbformat_minor": 0,
  "metadata": {
    "colab": {
      "provenance": []
    },
    "kernelspec": {
      "name": "python3",
      "display_name": "Python 3"
    },
    "language_info": {
      "name": "python"
    }
  },
  "cells": [
    {
      "cell_type": "code",
      "execution_count": null,
      "metadata": {
        "id": "5QjDTYDIWa6G"
      },
      "outputs": [],
      "source": [
        "text = \"\"\"\n",
        "Yesterday, the president announced a new initiative to combat climate change.\n",
        "In a speech at the White House, he outlined a series of measures designed to reduce greenhouse gas emissions and promote renewable energy sources.\n",
        "The president's plan includes incentives for businesses to invest in clean energy, as well as regulations to limit carbon emissions from power plants.\n",
        "Environmental groups praised the president's initiative, saying it was a step in the right direction.\n",
        "However, some critics questioned the effectiveness of the measures, arguing that they did not go far enough to address the severity of the climate crisis.\n",
        "The president's announcement comes just weeks before a major international climate summit, where leaders from around the world will gather to discuss strategies for reducing global emissions.\n",
        "The summit is seen as a crucial opportunity to make progress on this pressing issue.\n",
        " \"\"\""
      ]
    },
    {
      "cell_type": "code",
      "source": [
        "import spacy\n",
        "import nltk\n",
        "nltk.download('stopwords')\n",
        "nltk.download('punkt')\n",
        "from spacy.lang.en.stop_words import STOP_WORDS\n",
        "from string import punctuation"
      ],
      "metadata": {
        "id": "PBGLvZdHWcvz",
        "colab": {
          "base_uri": "https://localhost:8080/"
        },
        "outputId": "dc6ecad9-e303-46cb-cd5f-0a4459d41f9f"
      },
      "execution_count": null,
      "outputs": [
        {
          "output_type": "stream",
          "name": "stderr",
          "text": [
            "[nltk_data] Downloading package stopwords to /root/nltk_data...\n",
            "[nltk_data]   Unzipping corpora/stopwords.zip.\n",
            "[nltk_data] Downloading package punkt to /root/nltk_data...\n",
            "[nltk_data]   Unzipping tokenizers/punkt.zip.\n"
          ]
        }
      ]
    },
    {
      "cell_type": "code",
      "source": [
        "stopwords = list(STOP_WORDS)\n",
        "nlp = spacy.load('en_core_web_sm')\n",
        "doc = nlp(text)"
      ],
      "metadata": {
        "id": "he-C6SngWlZ8"
      },
      "execution_count": null,
      "outputs": []
    },
    {
      "cell_type": "code",
      "source": [
        "tokens = [token.text for token in doc]\n",
        "print(tokens)\n",
        "punctuation = punctuation + '\\n'\n",
        "punctuation"
      ],
      "metadata": {
        "id": "wLTWs3JuWsU4",
        "colab": {
          "base_uri": "https://localhost:8080/",
          "height": 73
        },
        "outputId": "baf8aeae-d1e3-4da5-a18c-fdda58a051a0"
      },
      "execution_count": null,
      "outputs": [
        {
          "output_type": "stream",
          "name": "stdout",
          "text": [
            "['\\n', 'Yesterday', ',', 'the', 'president', 'announced', 'a', 'new', 'initiative', 'to', 'combat', 'climate', 'change', '.', '\\n', 'In', 'a', 'speech', 'at', 'the', 'White', 'House', ',', 'he', 'outlined', 'a', 'series', 'of', 'measures', 'designed', 'to', 'reduce', 'greenhouse', 'gas', 'emissions', 'and', 'promote', 'renewable', 'energy', 'sources', '.', '\\n', 'The', 'president', \"'s\", 'plan', 'includes', 'incentives', 'for', 'businesses', 'to', 'invest', 'in', 'clean', 'energy', ',', 'as', 'well', 'as', 'regulations', 'to', 'limit', 'carbon', 'emissions', 'from', 'power', 'plants', '.', '\\n', 'Environmental', 'groups', 'praised', 'the', 'president', \"'s\", 'initiative', ',', 'saying', 'it', 'was', 'a', 'step', 'in', 'the', 'right', 'direction', '.', '\\n', 'However', ',', 'some', 'critics', 'questioned', 'the', 'effectiveness', 'of', 'the', 'measures', ',', 'arguing', 'that', 'they', 'did', 'not', 'go', 'far', 'enough', 'to', 'address', 'the', 'severity', 'of', 'the', 'climate', 'crisis', '.', '\\n', 'The', 'president', \"'s\", 'announcement', 'comes', 'just', 'weeks', 'before', 'a', 'major', 'international', 'climate', 'summit', ',', 'where', 'leaders', 'from', 'around', 'the', 'world', 'will', 'gather', 'to', 'discuss', 'strategies', 'for', 'reducing', 'global', 'emissions', '.', '\\n', 'The', 'summit', 'is', 'seen', 'as', 'a', 'crucial', 'opportunity', 'to', 'make', 'progress', 'on', 'this', 'pressing', 'issue', '.', '\\n ']\n"
          ]
        },
        {
          "output_type": "execute_result",
          "data": {
            "text/plain": [
              "'!\"#$%&\\'()*+,-./:;<=>?@[\\\\]^_`{|}~\\n'"
            ],
            "application/vnd.google.colaboratory.intrinsic+json": {
              "type": "string"
            }
          },
          "metadata": {},
          "execution_count": 4
        }
      ]
    },
    {
      "cell_type": "code",
      "source": [
        "word_frequencies = {}\n",
        "for word in doc:\n",
        "  if word.text.lower() not in stopwords:\n",
        "    if word.text.lower() not in punctuation:\n",
        "      if word.text not in word_frequencies.keys():\n",
        "        word_frequencies[word.text] = 1\n",
        "      else:\n",
        "        word_frequencies[word.text] += 1\n",
        "\n",
        "print(word_frequencies)"
      ],
      "metadata": {
        "id": "yce0cekVWxyD",
        "colab": {
          "base_uri": "https://localhost:8080/"
        },
        "outputId": "bb2d63e0-751a-4c51-ca39-fbbb31c91c6d"
      },
      "execution_count": null,
      "outputs": [
        {
          "output_type": "stream",
          "name": "stdout",
          "text": [
            "{'Yesterday': 1, 'president': 4, 'announced': 1, 'new': 1, 'initiative': 2, 'combat': 1, 'climate': 3, 'change': 1, 'speech': 1, 'White': 1, 'House': 1, 'outlined': 1, 'series': 1, 'measures': 2, 'designed': 1, 'reduce': 1, 'greenhouse': 1, 'gas': 1, 'emissions': 3, 'promote': 1, 'renewable': 1, 'energy': 2, 'sources': 1, 'plan': 1, 'includes': 1, 'incentives': 1, 'businesses': 1, 'invest': 1, 'clean': 1, 'regulations': 1, 'limit': 1, 'carbon': 1, 'power': 1, 'plants': 1, 'Environmental': 1, 'groups': 1, 'praised': 1, 'saying': 1, 'step': 1, 'right': 1, 'direction': 1, 'critics': 1, 'questioned': 1, 'effectiveness': 1, 'arguing': 1, 'far': 1, 'address': 1, 'severity': 1, 'crisis': 1, 'announcement': 1, 'comes': 1, 'weeks': 1, 'major': 1, 'international': 1, 'summit': 2, 'leaders': 1, 'world': 1, 'gather': 1, 'discuss': 1, 'strategies': 1, 'reducing': 1, 'global': 1, 'seen': 1, 'crucial': 1, 'opportunity': 1, 'progress': 1, 'pressing': 1, 'issue': 1, '\\n ': 1}\n"
          ]
        }
      ]
    },
    {
      "cell_type": "code",
      "source": [
        "max_frequency = max(word_frequencies.values())\n",
        "max_frequency"
      ],
      "metadata": {
        "id": "PbAI3SEeW-Ll",
        "colab": {
          "base_uri": "https://localhost:8080/"
        },
        "outputId": "63b0cc44-fcf1-4598-8600-b24ac3842447"
      },
      "execution_count": null,
      "outputs": [
        {
          "output_type": "execute_result",
          "data": {
            "text/plain": [
              "4"
            ]
          },
          "metadata": {},
          "execution_count": 6
        }
      ]
    },
    {
      "cell_type": "code",
      "source": [
        "for word in word_frequencies.keys():\n",
        "  word_frequencies[word] = word_frequencies[word]/max_frequency\n",
        "\n",
        "print(word_frequencies)"
      ],
      "metadata": {
        "id": "FXhNb5uDXCpe",
        "colab": {
          "base_uri": "https://localhost:8080/"
        },
        "outputId": "d1ca4fd5-5d54-42ae-fba5-177e8d2d9df5"
      },
      "execution_count": null,
      "outputs": [
        {
          "output_type": "stream",
          "name": "stdout",
          "text": [
            "{'Yesterday': 0.25, 'president': 1.0, 'announced': 0.25, 'new': 0.25, 'initiative': 0.5, 'combat': 0.25, 'climate': 0.75, 'change': 0.25, 'speech': 0.25, 'White': 0.25, 'House': 0.25, 'outlined': 0.25, 'series': 0.25, 'measures': 0.5, 'designed': 0.25, 'reduce': 0.25, 'greenhouse': 0.25, 'gas': 0.25, 'emissions': 0.75, 'promote': 0.25, 'renewable': 0.25, 'energy': 0.5, 'sources': 0.25, 'plan': 0.25, 'includes': 0.25, 'incentives': 0.25, 'businesses': 0.25, 'invest': 0.25, 'clean': 0.25, 'regulations': 0.25, 'limit': 0.25, 'carbon': 0.25, 'power': 0.25, 'plants': 0.25, 'Environmental': 0.25, 'groups': 0.25, 'praised': 0.25, 'saying': 0.25, 'step': 0.25, 'right': 0.25, 'direction': 0.25, 'critics': 0.25, 'questioned': 0.25, 'effectiveness': 0.25, 'arguing': 0.25, 'far': 0.25, 'address': 0.25, 'severity': 0.25, 'crisis': 0.25, 'announcement': 0.25, 'comes': 0.25, 'weeks': 0.25, 'major': 0.25, 'international': 0.25, 'summit': 0.5, 'leaders': 0.25, 'world': 0.25, 'gather': 0.25, 'discuss': 0.25, 'strategies': 0.25, 'reducing': 0.25, 'global': 0.25, 'seen': 0.25, 'crucial': 0.25, 'opportunity': 0.25, 'progress': 0.25, 'pressing': 0.25, 'issue': 0.25, '\\n ': 0.25}\n"
          ]
        }
      ]
    },
    {
      "cell_type": "code",
      "source": [
        "sentence_tokens = [sent for sent in doc.sents]\n",
        "print(sentence_tokens)"
      ],
      "metadata": {
        "id": "9XT7oSSnXLMi",
        "colab": {
          "base_uri": "https://localhost:8080/"
        },
        "outputId": "07e6f364-92a9-44e4-d8b0-ca1b6154dcb7"
      },
      "execution_count": null,
      "outputs": [
        {
          "output_type": "stream",
          "name": "stdout",
          "text": [
            "[\n",
            "Yesterday, the president announced a new initiative to combat climate change. \n",
            ", In a speech at the White House, he outlined a series of measures designed to reduce greenhouse gas emissions and promote renewable energy sources. \n",
            ", The president's plan includes incentives for businesses to invest in clean energy, as well as regulations to limit carbon emissions from power plants.\n",
            ", Environmental groups praised the president's initiative, saying it was a step in the right direction. \n",
            ", However, some critics questioned the effectiveness of the measures, arguing that they did not go far enough to address the severity of the climate crisis.\n",
            ", The president's announcement comes just weeks before a major international climate summit, where leaders from around the world will gather to discuss strategies for reducing global emissions. \n",
            ", The summit is seen as a crucial opportunity to make progress on this pressing issue.\n",
            " ]\n"
          ]
        }
      ]
    },
    {
      "cell_type": "code",
      "source": [
        "sentence_scores = {}\n",
        "for sent in sentence_tokens:\n",
        "  for word in sent:\n",
        "    if word.text.lower() in word_frequencies.keys():\n",
        "      if sent not in sentence_scores.keys():\n",
        "        sentence_scores[sent] = word_frequencies[word.text.lower()]\n",
        "      else:\n",
        "        sentence_scores[sent] += word_frequencies[word.text.lower()]\n",
        "sentence_scores\n"
      ],
      "metadata": {
        "id": "Qn8GP76UXRjj",
        "colab": {
          "base_uri": "https://localhost:8080/"
        },
        "outputId": "d5579368-c610-48b0-c500-13a4a435cdb2"
      },
      "execution_count": null,
      "outputs": [
        {
          "output_type": "execute_result",
          "data": {
            "text/plain": [
              "{\n",
              " Yesterday, the president announced a new initiative to combat climate change. : 3.25,\n",
              " In a speech at the White House, he outlined a series of measures designed to reduce greenhouse gas emissions and promote renewable energy sources. : 4.25,\n",
              " The president's plan includes incentives for businesses to invest in clean energy, as well as regulations to limit carbon emissions from power plants.: 5.0,\n",
              " Environmental groups praised the president's initiative, saying it was a step in the right direction. : 3.0,\n",
              " However, some critics questioned the effectiveness of the measures, arguing that they did not go far enough to address the severity of the climate crisis.: 3.25,\n",
              " The president's announcement comes just weeks before a major international climate summit, where leaders from around the world will gather to discuss strategies for reducing global emissions. : 6.0,\n",
              " The summit is seen as a crucial opportunity to make progress on this pressing issue.\n",
              "  : 2.25}"
            ]
          },
          "metadata": {},
          "execution_count": 9
        }
      ]
    },
    {
      "cell_type": "code",
      "source": [
        "from heapq import nlargest\n",
        "select_length = int(len(sentence_tokens)*0.5)\n",
        "select_length\n",
        "summary = nlargest(select_length, sentence_scores, key = sentence_scores.get)\n",
        "summary\n",
        "print(word)\n",
        "final_summary = [word.text for word in summary]\n",
        "summary = ' '.join(final_summary)\n",
        "print(summary)"
      ],
      "metadata": {
        "id": "fNmjv_evXbys",
        "colab": {
          "base_uri": "https://localhost:8080/"
        },
        "outputId": "a09c9a3a-64ca-455c-bc3c-ff9f0db41073"
      },
      "execution_count": null,
      "outputs": [
        {
          "output_type": "stream",
          "name": "stdout",
          "text": [
            "\n",
            " \n",
            "The president's announcement comes just weeks before a major international climate summit, where leaders from around the world will gather to discuss strategies for reducing global emissions. \n",
            " The president's plan includes incentives for businesses to invest in clean energy, as well as regulations to limit carbon emissions from power plants.\n",
            " In a speech at the White House, he outlined a series of measures designed to reduce greenhouse gas emissions and promote renewable energy sources. \n",
            "\n"
          ]
        }
      ]
    }
  ]
}